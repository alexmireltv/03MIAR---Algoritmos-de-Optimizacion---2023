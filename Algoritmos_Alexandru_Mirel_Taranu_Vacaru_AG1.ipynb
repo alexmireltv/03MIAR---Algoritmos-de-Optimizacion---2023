{
  "nbformat": 4,
  "nbformat_minor": 0,
  "metadata": {
    "colab": {
      "provenance": [],
      "authorship_tag": "ABX9TyMswEP2rRqInHwCSidBhCSf",
      "include_colab_link": true
    },
    "kernelspec": {
      "name": "python3",
      "display_name": "Python 3"
    },
    "language_info": {
      "name": "python"
    }
  },
  "cells": [
    {
      "cell_type": "markdown",
      "metadata": {
        "id": "view-in-github",
        "colab_type": "text"
      },
      "source": [
        "<a href=\"https://colab.research.google.com/github/alexmireltv/03MIAR---Algoritmos-de-Optimizacion---2023/blob/main/Algoritmos_Alexandru_Mirel_Taranu_Vacaru_AG1.ipynb\" target=\"_parent\"><img src=\"https://colab.research.google.com/assets/colab-badge.svg\" alt=\"Open In Colab\"/></a>"
      ]
    },
    {
      "cell_type": "markdown",
      "source": [
        "# AG1 - Actividad Guiada 1\n",
        "\n",
        "## Alexandru Mirel Taranu Vacaru\n",
        "\n",
        "Link repositorio: https://github.com/alexmireltv/03MIAR---Algoritmos-de-Optimizacion---2023"
      ],
      "metadata": {
        "id": "T5AmOrAK3XTB"
      }
    },
    {
      "cell_type": "code",
      "source": [
        "def torres_hanoi(N, origen, destino, pivote):\n",
        "  \n",
        "  if N == 1:\n",
        "\n",
        "    print(f\"Mover bloque desde {origen} a {destino}.\")\n",
        "\n",
        "    return\n",
        "\n",
        "  torres_hanoi(N-1, origen, pivote, destino)\n",
        "\n",
        "  print(f\"Mover bloque desde {origen} a {destino}.\")\n",
        "\n",
        "  torres_hanoi(N-1, pivote, destino, origen)\n",
        "\n",
        "torres_hanoi(4, 1, 3, 2)"
      ],
      "metadata": {
        "colab": {
          "base_uri": "https://localhost:8080/"
        },
        "id": "4KN2zHJc3WnN",
        "outputId": "53f0240b-24c1-44d7-ffeb-6e61a5e1056d"
      },
      "execution_count": 2,
      "outputs": [
        {
          "output_type": "stream",
          "name": "stdout",
          "text": [
            "Mover bloque desde 1 a 2.\n",
            "Mover bloque desde 1 a 3.\n",
            "Mover bloque desde 2 a 3.\n",
            "Mover bloque desde 1 a 2.\n",
            "Mover bloque desde 3 a 1.\n",
            "Mover bloque desde 3 a 2.\n",
            "Mover bloque desde 1 a 2.\n",
            "Mover bloque desde 1 a 3.\n",
            "Mover bloque desde 2 a 3.\n",
            "Mover bloque desde 2 a 1.\n",
            "Mover bloque desde 3 a 1.\n",
            "Mover bloque desde 2 a 3.\n",
            "Mover bloque desde 1 a 2.\n",
            "Mover bloque desde 1 a 3.\n",
            "Mover bloque desde 2 a 3.\n"
          ]
        }
      ]
    }
  ]
}