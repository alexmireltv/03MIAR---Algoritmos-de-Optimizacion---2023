{
  "nbformat": 4,
  "nbformat_minor": 0,
  "metadata": {
    "colab": {
      "provenance": [],
      "authorship_tag": "ABX9TyPMVMsHT2jPVi2uh119cxaY",
      "include_colab_link": true
    },
    "kernelspec": {
      "name": "python3",
      "display_name": "Python 3"
    },
    "language_info": {
      "name": "python"
    }
  },
  "cells": [
    {
      "cell_type": "markdown",
      "metadata": {
        "id": "view-in-github",
        "colab_type": "text"
      },
      "source": [
        "<a href=\"https://colab.research.google.com/github/alexmireltv/03MIAR---Algoritmos-de-Optimizacion---2023/blob/main/Algoritmos_Alexandru_Mirel_Taranu_Vacaru_AG1.ipynb\" target=\"_parent\"><img src=\"https://colab.research.google.com/assets/colab-badge.svg\" alt=\"Open In Colab\"/></a>"
      ]
    },
    {
      "cell_type": "markdown",
      "source": [
        "# AG1 - Actividad Guiada 1\n",
        "\n",
        "## Alexandru Mirel Taranu Vacaru\n",
        "\n",
        "Link repositorio: https://github.com/alexmireltv/03MIAR---Algoritmos-de-Optimizacion---2023"
      ],
      "metadata": {
        "id": "T5AmOrAK3XTB"
      }
    },
    {
      "cell_type": "code",
      "source": [
        "# Torres Hanoi\n",
        "\n",
        "def torres_hanoi(N, origen, destino, pivote):\n",
        "  \n",
        "  if N == 1:\n",
        "\n",
        "    print(f\"Mover bloque desde {origen} a {destino}.\")\n",
        "\n",
        "    return\n",
        "\n",
        "  torres_hanoi(N-1, origen, pivote, destino)\n",
        "\n",
        "  print(f\"Mover bloque desde {origen} a {destino}.\")\n",
        "\n",
        "  torres_hanoi(N-1, pivote, destino, origen)\n",
        "\n",
        "\n",
        "torres_hanoi(4, 1, 3, 2)"
      ],
      "metadata": {
        "colab": {
          "base_uri": "https://localhost:8080/"
        },
        "id": "4KN2zHJc3WnN",
        "outputId": "bd8f975a-69bf-4d28-ad68-d14e2ae96c13"
      },
      "execution_count": 1,
      "outputs": [
        {
          "output_type": "stream",
          "name": "stdout",
          "text": [
            "Mover bloque desde 1 a 2.\n",
            "Mover bloque desde 1 a 3.\n",
            "Mover bloque desde 2 a 3.\n",
            "Mover bloque desde 1 a 2.\n",
            "Mover bloque desde 3 a 1.\n",
            "Mover bloque desde 3 a 2.\n",
            "Mover bloque desde 1 a 2.\n",
            "Mover bloque desde 1 a 3.\n",
            "Mover bloque desde 2 a 3.\n",
            "Mover bloque desde 2 a 1.\n",
            "Mover bloque desde 3 a 1.\n",
            "Mover bloque desde 2 a 3.\n",
            "Mover bloque desde 1 a 2.\n",
            "Mover bloque desde 1 a 3.\n",
            "Mover bloque desde 2 a 3.\n"
          ]
        }
      ]
    },
    {
      "cell_type": "code",
      "source": [
        "# Devolver cambio\n",
        "\n",
        "def cambio_moneda(cantidad, sistema):\n",
        "\n",
        "  print(f\"Sistema: {sistema}\")\n",
        "\n",
        "  solucion = [0 for i in range(len(sistema))]\n",
        "\n",
        "  valor_acumulado = 0\n",
        "\n",
        "  for i in range(len(sistema)):\n",
        "\n",
        "    monedas = int((cantidad-valor_acumulado)/sistema[i])\n",
        "\n",
        "    solucion[i] = monedas\n",
        "\n",
        "    valor_acumulado += monedas * sistema[i]\n",
        "\n",
        "    if valor_acumulado == cantidad: break\n",
        "\n",
        "  return solucion\n",
        "\n",
        "\n",
        "sistema = [25, 10, 5, 1]\n",
        "\n",
        "cambio_moneda(54, sistema)"
      ],
      "metadata": {
        "colab": {
          "base_uri": "https://localhost:8080/"
        },
        "id": "rSt7GabfEBxW",
        "outputId": "a4d0989b-e8a3-4099-b708-bc9d52eb7268"
      },
      "execution_count": 2,
      "outputs": [
        {
          "output_type": "stream",
          "name": "stdout",
          "text": [
            "Sistema: [25, 10, 5, 1]\n"
          ]
        },
        {
          "output_type": "execute_result",
          "data": {
            "text/plain": [
              "[2, 0, 0, 4]"
            ]
          },
          "metadata": {},
          "execution_count": 2
        }
      ]
    }
  ]
}