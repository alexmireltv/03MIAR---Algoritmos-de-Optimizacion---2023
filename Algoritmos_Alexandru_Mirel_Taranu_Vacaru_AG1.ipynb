{
  "nbformat": 4,
  "nbformat_minor": 0,
  "metadata": {
    "colab": {
      "provenance": [],
      "authorship_tag": "ABX9TyMi95DhCSSKnqaFBIKbinv0",
      "include_colab_link": true
    },
    "kernelspec": {
      "name": "python3",
      "display_name": "Python 3"
    },
    "language_info": {
      "name": "python"
    }
  },
  "cells": [
    {
      "cell_type": "markdown",
      "metadata": {
        "id": "view-in-github",
        "colab_type": "text"
      },
      "source": [
        "<a href=\"https://colab.research.google.com/github/alexmireltv/03MIAR---Algoritmos-de-Optimizacion---2023/blob/main/Algoritmos_Alexandru_Mirel_Taranu_Vacaru_AG1.ipynb\" target=\"_parent\"><img src=\"https://colab.research.google.com/assets/colab-badge.svg\" alt=\"Open In Colab\"/></a>"
      ]
    },
    {
      "cell_type": "markdown",
      "source": [
        "# AG1 - Actividad Guiada 1\n",
        "\n",
        "## Alexandru Mirel Taranu Vacaru\n",
        "\n",
        "Link repositorio: https://github.com/alexmireltv/03MIAR---Algoritmos-de-Optimizacion---2023"
      ],
      "metadata": {
        "id": "T5AmOrAK3XTB"
      }
    },
    {
      "cell_type": "code",
      "source": [
        "# Torres Hanoi\n",
        "\n",
        "def torres_hanoi(N, origen, destino, pivote):\n",
        "\n",
        "  if N == 1:\n",
        "\n",
        "    print(f\"Mover bloque desde {origen} a {destino}.\")\n",
        "\n",
        "    return\n",
        "\n",
        "  torres_hanoi(N-1, origen, pivote, destino)\n",
        "\n",
        "  print(f\"Mover bloque desde {origen} a {destino}.\")\n",
        "\n",
        "  torres_hanoi(N-1, pivote, destino, origen)\n",
        "\n",
        "\n",
        "torres_hanoi(4, 1, 3, 2)"
      ],
      "metadata": {
        "colab": {
          "base_uri": "https://localhost:8080/"
        },
        "id": "4KN2zHJc3WnN",
        "outputId": "969d5e9a-b15a-47e8-c6dd-7141e918e7d0"
      },
      "execution_count": 1,
      "outputs": [
        {
          "output_type": "stream",
          "name": "stdout",
          "text": [
            "Mover bloque desde 1 a 2.\n",
            "Mover bloque desde 1 a 3.\n",
            "Mover bloque desde 2 a 3.\n",
            "Mover bloque desde 1 a 2.\n",
            "Mover bloque desde 3 a 1.\n",
            "Mover bloque desde 3 a 2.\n",
            "Mover bloque desde 1 a 2.\n",
            "Mover bloque desde 1 a 3.\n",
            "Mover bloque desde 2 a 3.\n",
            "Mover bloque desde 2 a 1.\n",
            "Mover bloque desde 3 a 1.\n",
            "Mover bloque desde 2 a 3.\n",
            "Mover bloque desde 1 a 2.\n",
            "Mover bloque desde 1 a 3.\n",
            "Mover bloque desde 2 a 3.\n"
          ]
        }
      ]
    },
    {
      "cell_type": "code",
      "source": [
        "# Devolver cambio\n",
        "\n",
        "def cambio_moneda(cantidad, sistema):\n",
        "\n",
        "  print(f\"Sistema: {sistema}\")\n",
        "\n",
        "  solucion = [0 for i in range(len(sistema))]\n",
        "\n",
        "  valor_acumulado = 0\n",
        "\n",
        "  for i in range(len(sistema)):\n",
        "\n",
        "    monedas = int((cantidad-valor_acumulado)/sistema[i])\n",
        "\n",
        "    solucion[i] = monedas\n",
        "\n",
        "    valor_acumulado += monedas * sistema[i]\n",
        "\n",
        "    if valor_acumulado == cantidad: break\n",
        "\n",
        "  return solucion\n",
        "\n",
        "\n",
        "sistema = [25, 10, 5, 1]\n",
        "\n",
        "cambio_moneda(54, sistema)"
      ],
      "metadata": {
        "colab": {
          "base_uri": "https://localhost:8080/"
        },
        "id": "rSt7GabfEBxW",
        "outputId": "540223f9-36f8-4458-b88f-a687777696d5"
      },
      "execution_count": 2,
      "outputs": [
        {
          "output_type": "stream",
          "name": "stdout",
          "text": [
            "Sistema: [25, 10, 5, 1]\n"
          ]
        },
        {
          "output_type": "execute_result",
          "data": {
            "text/plain": [
              "[2, 0, 0, 4]"
            ]
          },
          "metadata": {},
          "execution_count": 2
        }
      ]
    },
    {
      "cell_type": "code",
      "source": [
        "# Encontrar los dos puntos más cercanos\n",
        "# Primer intento - Fuerza bruta\n",
        "\n",
        "import numpy as np\n",
        "\n",
        "def distancia_menor(lista_puntos):\n",
        "\n",
        "  distancias = {}\n",
        "\n",
        "  # Recorremos los elementos con dos bucles anidados\n",
        "  # para restarlos todos con todos, pero solo si no\n",
        "  # son iguales, pues su distancia sería 0\n",
        "  for i in lista_puntos:\n",
        "    for j in lista_puntos:\n",
        "      if i != j:\n",
        "        distancias[f\"{i}, {j}\"] = np.abs(i-j)\n",
        "\n",
        "  return min(distancias.items(), key=lambda x: x[1])\n",
        "\n",
        "\n",
        "puntos = [22, 13, 46, 15, 100, 1, 77, 62, 12]\n",
        "\n",
        "distancia_menor(puntos)"
      ],
      "metadata": {
        "colab": {
          "base_uri": "https://localhost:8080/"
        },
        "id": "emDADXS1vVOb",
        "outputId": "a9b74fd0-86d1-4ceb-9018-89a8a42aa34a"
      },
      "execution_count": 3,
      "outputs": [
        {
          "output_type": "execute_result",
          "data": {
            "text/plain": [
              "('13, 12', 1)"
            ]
          },
          "metadata": {},
          "execution_count": 3
        }
      ]
    },
    {
      "cell_type": "markdown",
      "source": [
        "La complejidad de este algoritmo es O(n^2), ya que hay n*n bucles, siendo n el número de elementos en la lista de entrada."
      ],
      "metadata": {
        "id": "lYjqqrkq3u1N"
      }
    },
    {
      "cell_type": "code",
      "source": [
        "# Segundo intento - Divide y vencerás\n",
        "\n",
        "def distancia_menor(lista_puntos):\n",
        "\n",
        "  distancias = {}\n",
        "\n",
        "  # Esta vez, cambiamos el segundo bucle\n",
        "  # de forma que no se vuelvan a comparar los elementos ya comparados\n",
        "  for i in range(len(lista_puntos)):\n",
        "    for j in range(i+1, len(lista_puntos)):\n",
        "      distancias[f\"{lista_puntos[i]}, {lista_puntos[j]}\"] = \\\n",
        "      np.abs(lista_puntos[i]-lista_puntos[j])\n",
        "\n",
        "  return min(distancias.items(), key=lambda x: x[1])\n",
        "\n",
        "\n",
        "puntos = [22, 13, 46, 15, 100, 1, 77, 62, 12]\n",
        "\n",
        "distancia_menor(puntos)"
      ],
      "metadata": {
        "colab": {
          "base_uri": "https://localhost:8080/"
        },
        "id": "Cbi-E1SswZxq",
        "outputId": "4d062b21-958d-4b17-958c-9657248e5570"
      },
      "execution_count": 4,
      "outputs": [
        {
          "output_type": "execute_result",
          "data": {
            "text/plain": [
              "('13, 12', 1)"
            ]
          },
          "metadata": {},
          "execution_count": 4
        }
      ]
    },
    {
      "cell_type": "code",
      "source": [
        "# Extensión a 2D\n",
        "\n",
        "def distancia_menor_2d(lista_puntos):\n",
        "\n",
        "  distancias = {}\n",
        "\n",
        "  # Para calcular las distancias, trataremos los puntos como vectores\n",
        "  # Una vez restemos las coordenadas, calcularemos el módulo\n",
        "  for i in range(len(lista_puntos)):\n",
        "    for j in range(i+1, len(lista_puntos)):\n",
        "      distancias[f\"{lista_puntos[i]}; {lista_puntos[j]}\"] = \\\n",
        "      round(np.sqrt((lista_puntos[i][0]-lista_puntos[j][0])**2 + \\\n",
        "       (lista_puntos[i][1]-lista_puntos[j][1])**2), 2)\n",
        "\n",
        "  return min(distancias.items(), key=lambda x: x[1])\n",
        "\n",
        "\n",
        "puntos = [(22, 10), (13, 85), (46, 22), (15, 15), (100, 71), (1, 1)]\n",
        "\n",
        "distancia_menor_2d(puntos)"
      ],
      "metadata": {
        "colab": {
          "base_uri": "https://localhost:8080/"
        },
        "id": "nymRcN1vyczG",
        "outputId": "38f9260b-78a6-42e8-e6ed-2ae307c55518"
      },
      "execution_count": 5,
      "outputs": [
        {
          "output_type": "execute_result",
          "data": {
            "text/plain": [
              "('(22, 10); (15, 15)', 8.6)"
            ]
          },
          "metadata": {},
          "execution_count": 5
        }
      ]
    },
    {
      "cell_type": "code",
      "source": [
        "# Extensión a 3D\n",
        "\n",
        "def distancia_menor_2d(lista_puntos):\n",
        "\n",
        "  distancias = {}\n",
        "\n",
        "  # Igual que en 2D pero añadiendo un término más al módulo\n",
        "  for i in range(len(lista_puntos)):\n",
        "    for j in range(i+1, len(lista_puntos)):\n",
        "      distancias[f\"{lista_puntos[i]}; {lista_puntos[j]}\"] = \\\n",
        "      round(np.sqrt((lista_puntos[i][0]-lista_puntos[j][0])**2 + \\\n",
        "       (lista_puntos[i][1]-lista_puntos[j][1])**2 + \\\n",
        "        (lista_puntos[i][2]-lista_puntos[j][2])**2), 2)\n",
        "\n",
        "  return min(distancias.items(), key=lambda x: x[1])\n",
        "\n",
        "\n",
        "puntos = [(22, 10, 14), (13, 85, 66), (46, 22, 34), (15, 15, 15), (100, 71, 21), (1, 1, 0), (2, 1, 2)]\n",
        "\n",
        "distancia_menor_2d(puntos)"
      ],
      "metadata": {
        "colab": {
          "base_uri": "https://localhost:8080/"
        },
        "id": "sEdn7T9v0cub",
        "outputId": "956a09dd-9d7e-48b0-9167-80ff51b6296d"
      },
      "execution_count": 6,
      "outputs": [
        {
          "output_type": "execute_result",
          "data": {
            "text/plain": [
              "('(1, 1, 0); (2, 1, 2)', 2.24)"
            ]
          },
          "metadata": {},
          "execution_count": 6
        }
      ]
    }
  ]
}